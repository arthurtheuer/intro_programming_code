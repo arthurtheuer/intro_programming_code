{
 "cells": [
  {
   "cell_type": "markdown",
   "metadata": {},
   "source": [
    "# Conway's Game of Life\n",
    "This is my own implementation of *Conway's Game of Life*, which is a cellular automaton devised by the British mathematician John Horton Conway in 1970.\n",
    "\n",
    "### Rules\n",
    "The game starts with an infinite 2D grid of square cells, each in one of two states: live or dead. The starting pattern is the only input by the user. Each cell interacts with its eight adjacent neighbors (horizontal, vertical, and diagonal). In every time step, the following transitions occur:\n",
    "\n",
    "1. Any live cell with fewer than two live neighbours dies (underpopulation).\n",
    "2. Any live cell with two or three live neighbours lives on to the next generation.\n",
    "3. Any live cell with more than three live neighbours dies (overpopulation).\n",
    "4. Any dead cell with exactly three live neighbours becomes a live cell (reproduction).\n",
    "\n",
    "### Imports"
   ]
  },
  {
   "cell_type": "code",
   "execution_count": 1,
   "metadata": {},
   "outputs": [
    {
     "name": "stdout",
     "output_type": "stream",
     "text": [
      "pygame 2.1.3 (SDL 2.26.5, Python 3.11.4)\n",
      "Hello from the pygame community. https://www.pygame.org/contribute.html\n"
     ]
    }
   ],
   "source": [
    "import pygame\n",
    "import numpy as np"
   ]
  },
  {
   "cell_type": "markdown",
   "metadata": {},
   "source": [
    "Set the colors of the grid:"
   ]
  },
  {
   "cell_type": "code",
   "execution_count": 2,
   "metadata": {},
   "outputs": [],
   "source": [
    "BORN = (255, 255, 255)  # cells that are born\n",
    "LIVE = (200, 200, 200)  # cells that are alive\n",
    "FADE = (50, 50, 50)     # cells that are dying (= conditions not fulfilled)\n",
    "DEAD = (0, 0, 0)        # cells that are dead (= background)\n",
    "GRID = (30, 30, 30)     # grid for the cells"
   ]
  },
  {
   "cell_type": "markdown",
   "metadata": {},
   "source": [
    "Set the starting conditions:"
   ]
  },
  {
   "cell_type": "code",
   "execution_count": 3,
   "metadata": {},
   "outputs": [],
   "source": [
    "p_alive = 0.1  # fraction of living cells at the start\n",
    "world_x = 135  # world width\n",
    "world_y = 135  # world height\n",
    "size = 6  # size of the cells (scaling)\n",
    "FPS = 12  # refresh rate\n"
   ]
  },
  {
   "cell_type": "markdown",
   "metadata": {},
   "source": [
    "Function for evaluating the living conditions and updating the world:"
   ]
  },
  {
   "cell_type": "code",
   "execution_count": 4,
   "metadata": {},
   "outputs": [],
   "source": [
    "def update(cur, size, world):\n",
    "    nxt = np.zeros_like(cur)  # initialize next frame as dead\n",
    "\n",
    "    for row, col in np.ndindex(cur.shape):\n",
    "        # Count number of neighboring live cells:\n",
    "        n_LIVE = np.sum(cur[row-1:row+2, col-1:col+2]) - cur[row, col]\n",
    "\n",
    "        pixel = DEAD  # initialize color to background and update below\n",
    "\n",
    "        if cur[row, col] == 1 and (n_LIVE < 2 or n_LIVE > 3):  # cell dies\n",
    "            pixel = FADE\n",
    "            nxt[row, col] = 0  # redundant\n",
    "        elif cur[row, col] == 1 and 2 <= n_LIVE <= 3:  # cell stays alive\n",
    "            pixel = LIVE\n",
    "            nxt[row, col] = 1\n",
    "        elif cur[row, col] == 0 and n_LIVE == 3:  # cell is born\n",
    "            pixel = BORN\n",
    "            nxt[row, col] = 1\n",
    "\n",
    "        # Draw the pixel with the right color:\n",
    "        pygame.draw.rect(world, pixel, (col*size, row*size, size-1, size-1))\n",
    "\n",
    "    return nxt  # output the next array after rendering"
   ]
  },
  {
   "cell_type": "markdown",
   "metadata": {},
   "source": [
    "Create the starting grid with a random number generator:"
   ]
  },
  {
   "cell_type": "code",
   "execution_count": 5,
   "metadata": {},
   "outputs": [],
   "source": [
    "def grid(x, y, p):\n",
    "    return np.random.default_rng().choice([0, 1], size=(x, y), p=[(1-p), p])"
   ]
  },
  {
   "cell_type": "markdown",
   "metadata": {},
   "source": [
    "Main code for controlling the other functions:"
   ]
  },
  {
   "cell_type": "code",
   "execution_count": 6,
   "metadata": {},
   "outputs": [],
   "source": [
    "def main(x_dim, y_dim, cell_size, fps):\n",
    "    # Start pygame and display the world:\n",
    "    pygame.init()\n",
    "    world = pygame.display.set_mode((x_dim*cell_size, y_dim*cell_size))\n",
    "    pygame.display.set_caption(\"Arthur's Game of Life\")\n",
    "\n",
    "    cells = grid(x_dim, y_dim, p_alive)\n",
    "\n",
    "    while True:\n",
    "        for event in pygame.event.get():\n",
    "            if event.type == pygame.QUIT:\n",
    "                pygame.quit()\n",
    "                return\n",
    "\n",
    "        world.fill(GRID)\n",
    "        cells = update(cells, cell_size, world)\n",
    "        pygame.display.update()\n",
    "\n",
    "        pygame.time.Clock().tick(fps)"
   ]
  },
  {
   "cell_type": "markdown",
   "metadata": {},
   "source": [
    "Run the main code and, thereby, execute the game:"
   ]
  },
  {
   "cell_type": "code",
   "execution_count": 7,
   "metadata": {},
   "outputs": [
    {
     "ename": "KeyboardInterrupt",
     "evalue": "",
     "output_type": "error",
     "traceback": [
      "\u001b[0;31m---------------------------------------------------------------------------\u001b[0m",
      "\u001b[0;31mKeyboardInterrupt\u001b[0m                         Traceback (most recent call last)",
      "Cell \u001b[0;32mIn[7], line 2\u001b[0m\n\u001b[1;32m      1\u001b[0m \u001b[39mif\u001b[39;00m \u001b[39m__name__\u001b[39m \u001b[39m==\u001b[39m \u001b[39m\"\u001b[39m\u001b[39m__main__\u001b[39m\u001b[39m\"\u001b[39m:\n\u001b[0;32m----> 2\u001b[0m     main(world_x, world_y, size, FPS)\n",
      "Cell \u001b[0;32mIn[6], line 19\u001b[0m, in \u001b[0;36mmain\u001b[0;34m(x_dim, y_dim, cell_size, fps)\u001b[0m\n\u001b[1;32m     16\u001b[0m cells \u001b[39m=\u001b[39m update(cells, cell_size, world)\n\u001b[1;32m     17\u001b[0m pygame\u001b[39m.\u001b[39mdisplay\u001b[39m.\u001b[39mupdate()\n\u001b[0;32m---> 19\u001b[0m pygame\u001b[39m.\u001b[39;49mtime\u001b[39m.\u001b[39;49mClock()\u001b[39m.\u001b[39;49mtick(fps)\n",
      "\u001b[0;31mKeyboardInterrupt\u001b[0m: "
     ]
    }
   ],
   "source": [
    "if __name__ == \"__main__\":\n",
    "    main(world_x, world_y, size, FPS)"
   ]
  }
 ],
 "metadata": {
  "kernelspec": {
   "display_name": "base",
   "language": "python",
   "name": "python3"
  },
  "language_info": {
   "codemirror_mode": {
    "name": "ipython",
    "version": 3
   },
   "file_extension": ".py",
   "mimetype": "text/x-python",
   "name": "python",
   "nbconvert_exporter": "python",
   "pygments_lexer": "ipython3",
   "version": "3.11.4"
  },
  "orig_nbformat": 4
 },
 "nbformat": 4,
 "nbformat_minor": 2
}
